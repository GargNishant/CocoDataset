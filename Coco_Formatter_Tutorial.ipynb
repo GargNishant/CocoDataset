{
  "nbformat": 4,
  "nbformat_minor": 0,
  "metadata": {
    "colab": {
      "name": "Coco Formatter_Tutorial.ipynb",
      "provenance": []
    },
    "kernelspec": {
      "name": "python3",
      "display_name": "Python 3"
    }
  },
  "cells": [
    {
      "cell_type": "code",
      "metadata": {
        "id": "2r0_wEE0VfqK",
        "colab_type": "code",
        "colab": {}
      },
      "source": [
        "#Clone the Repository. No need for COCO APi,as they do not work weel with Python3\n",
        "!git clone https://github.com/GargNishant/CocoFormatter.git"
      ],
      "execution_count": 0,
      "outputs": []
    },
    {
      "cell_type": "code",
      "metadata": {
        "id": "DyF6axf9WN67",
        "colab_type": "code",
        "colab": {}
      },
      "source": [
        "#Download the Annotation file from the COCO Website Link.\n",
        "!wget http://images.cocodataset.org/annotations/annotations_trainval2017.zip"
      ],
      "execution_count": 0,
      "outputs": []
    },
    {
      "cell_type": "code",
      "metadata": {
        "id": "QOAj1GI2W6qk",
        "colab_type": "code",
        "colab": {}
      },
      "source": [
        "#Unzip the contents from the Zip file\n",
        "!unzip /content/annotations_trainval2017.zip -d /content/"
      ],
      "execution_count": 0,
      "outputs": []
    },
    {
      "cell_type": "code",
      "metadata": {
        "id": "9YOFwch1X_oj",
        "colab_type": "code",
        "colab": {}
      },
      "source": [
        "\"\"\"\n",
        "CocoReader.py file process the given file from param \"file_name\" and creates a new file from param \"new_file\". The \"category\" param, is used to filter 1 catetegory, \n",
        "for which you want to create a new JSON File. \"skip\" params, skips first n findings and \"upper_bound\" acts as last number of found image in that category.\n",
        "In following, it will create a new JSON containing only person category annotations, and 1st 3000 findings will be skipped and upto 4000th image contaning person category\n",
        "\"\"\"\n",
        "\n",
        "!python3 cocoReader.py --file_name='/content/coco_annotations/annotations/instances_train2017.json' --new_file='/content/instances_train2017_3k_4k.json' \\\n",
        "--category='person' --skip=3000 --upper_bound=4000"
      ],
      "execution_count": 0,
      "outputs": []
    },
    {
      "cell_type": "code",
      "metadata": {
        "id": "BgKEP-hdaLbj",
        "colab_type": "code",
        "colab": {}
      },
      "source": [
        "\"\"\"\n",
        "CocoZip.py file process the given json File containing COCO Annotations. It simply downloads the images and creates a Zip file containing the images and the annotation File\n",
        "@param file_name: Name of the JSON File including the Path\n",
        "@param zip_name: Name of the Zip File including the Path. Here the Path must be Already Existing Path\n",
        "@param save_img_dir: Path of Directory where the images and annotation file would be moved. The path will be created if not already created\n",
        "\"\"\"\n",
        "\n",
        "!python3 cocoZip.py --file_name='/content/instances_train2017_3k_4k.json' --zip_name=\"/content/drive/My Drive/Coco_Person/Train/instances_train2017_3k_4k.zip\" \\\n",
        "--save_img_dir=\"/content/3k_4k/\""
      ],
      "execution_count": 0,
      "outputs": []
    }
  ]
}